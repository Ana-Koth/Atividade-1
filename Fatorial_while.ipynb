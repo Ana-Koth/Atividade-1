{
 "cells": [
  {
   "cell_type": "code",
   "execution_count": 1,
   "id": "cdba66f3",
   "metadata": {},
   "outputs": [
    {
     "name": "stdout",
     "output_type": "stream",
     "text": [
      "O fatorial de 3 é 6\n",
      "O fatorial de 1 é 1\n",
      "O fatorial de 10 é 3628800\n",
      "O fatorial de 0 é 1\n"
     ]
    }
   ],
   "source": [
    "def fatorial_while(n):\n",
    "    '''\n",
    "    Calcula e retorna o fatorial de n.\n",
    "\n",
    "    Argumentos\n",
    "    ----------\n",
    "    n : int\n",
    "        O número para o qual calcular o fatorial.\n",
    "\n",
    "    Retorna\n",
    "    -------\n",
    "    int\n",
    "        O fatorial de n.\n",
    "    '''\n",
    "    fatorial_while=1\n",
    "    while n> 1 :\n",
    "        fatorial_while = n*fatorial_while\n",
    "        n -= 1\n",
    "    return fatorial_while\n",
    "\n",
    "print(f'O fatorial de 3 é {fatorial_while(3)}')\n",
    "\n",
    "print('O fatorial de 1 é', fatorial_while(1))\n",
    "\n",
    "f10 = fatorial_while(10)\n",
    "print(f'O fatorial de 10 é {f10}')\n",
    "\n",
    "f0 = fatorial_while(0)\n",
    "print('O fatorial de 0 é', f0)"
   ]
  }
 ],
 "metadata": {
  "kernelspec": {
   "display_name": "FisComp",
   "language": "python",
   "name": "python3"
  },
  "language_info": {
   "codemirror_mode": {
    "name": "ipython",
    "version": 3
   },
   "file_extension": ".py",
   "mimetype": "text/x-python",
   "name": "python",
   "nbconvert_exporter": "python",
   "pygments_lexer": "ipython3",
   "version": "3.13.2"
  }
 },
 "nbformat": 4,
 "nbformat_minor": 5
}
