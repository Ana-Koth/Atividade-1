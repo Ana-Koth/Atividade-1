{
 "cells": [
  {
   "cell_type": "code",
   "execution_count": null,
   "id": "4f345898",
   "metadata": {},
   "outputs": [],
   "source": [
    "def fatorial_recursivo(n):\n",
    "    '''\n",
    "    Calcula e retorna o fatorial de n.\n",
    "\n",
    "    Argumentos\n",
    "    ----------\n",
    "    n : int\n",
    "        O número para o qual calcular o fatorial.\n",
    "\n",
    "    Retorna\n",
    "    -------\n",
    "    int\n",
    "        O fatorial de n.\n",
    "    '''\n",
    "    #a)\n",
    "    if n == 0:\n",
    "       return 1\n",
    "    else:\n",
    "       return n * fatorial_recursivo(n - 1)\n",
    "\n",
    "\n",
    "print(f'O fatorial de 3 é {fatorial_recursivo(3)}')\n",
    "\n",
    "print('O fatorial de 1 é', fatorial_recursivo(1))\n",
    "\n",
    "f10 = fatorial_recursivo(10)\n",
    "print(f'O fatorial de 10 é {f10}')\n",
    "\n",
    "f0 = fatorial_recursivo(0)\n",
    "print('O fatorial de 0 é', f0)"
   ]
  }
 ],
 "metadata": {
  "language_info": {
   "name": "python"
  }
 },
 "nbformat": 4,
 "nbformat_minor": 5
}
