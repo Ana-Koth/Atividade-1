{
 "cells": [
  {
   "cell_type": "code",
   "execution_count": 1,
   "id": "565a0996",
   "metadata": {},
   "outputs": [
    {
     "name": "stdout",
     "output_type": "stream",
     "text": [
      "A primeira raiz é: 1.0\n",
      "A segunda raiz é: -7.0\n"
     ]
    }
   ],
   "source": [
    "def bhaskara(a, b, c):\n",
    "    '''\n",
    "   Calcula as duas raízes de uma função quadrática\n",
    "\n",
    "     Args:\n",
    "     -----------\n",
    "       a : int\n",
    "       b : int\n",
    "       c : int\n",
    "\n",
    "     Returns:\n",
    "     ---------\n",
    "     Int:\n",
    "       O valor das raízes de x1 e x2\n",
    "    '''\n",
    "    x1 = (-b +(b**2-4*a*c)**0.5)/(2*a)\n",
    "    x2 = (-b -(b**2-4*a*c)**0.5)/(2*a)\n",
    "    return x1, x2\n",
    "\n",
    "x1, x2 = bhaskara(2, 12, -14)\n",
    "print('A primeira raiz é:', x1)\n",
    "print('A segunda raiz é:', x2)"
   ]
  }
 ],
 "metadata": {
  "kernelspec": {
   "display_name": "FisComp",
   "language": "python",
   "name": "python3"
  },
  "language_info": {
   "codemirror_mode": {
    "name": "ipython",
    "version": 3
   },
   "file_extension": ".py",
   "mimetype": "text/x-python",
   "name": "python",
   "nbconvert_exporter": "python",
   "pygments_lexer": "ipython3",
   "version": "3.13.2"
  }
 },
 "nbformat": 4,
 "nbformat_minor": 5
}
