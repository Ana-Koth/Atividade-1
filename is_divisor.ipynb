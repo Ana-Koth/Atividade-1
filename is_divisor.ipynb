{
 "cells": [
  {
   "cell_type": "code",
   "execution_count": null,
   "id": "dfb71066",
   "metadata": {},
   "outputs": [],
   "source": [
    "def is_divisor(a, b):\n",
    "    '''\n",
    "   Verifica se um número é ou não divisor do outro\n",
    "\n",
    "      Args:\n",
    "       a(int)\n",
    "       b(int)\n",
    "\n",
    "      Returns:\n",
    "        True = divisor\n",
    "        False = não divide\n",
    "    '''\n",
    "    if a % b == 0:\n",
    "        return \"É divisor\"\n",
    "    else:\n",
    "        return \"Não é divisor\"\n",
    "\n",
    "\n",
    "\n",
    "print(is_divisor(20, 2))\n",
    "print(is_divisor(10, 7))"
   ]
  }
 ],
 "metadata": {
  "language_info": {
   "name": "python"
  }
 },
 "nbformat": 4,
 "nbformat_minor": 5
}
