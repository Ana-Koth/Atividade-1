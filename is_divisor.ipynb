{
 "cells": [
  {
   "cell_type": "code",
   "execution_count": 1,
   "id": "dfb71066",
   "metadata": {},
   "outputs": [
    {
     "name": "stdout",
     "output_type": "stream",
     "text": [
      "É divisor\n",
      "Não é divisor\n"
     ]
    }
   ],
   "source": [
    "def is_divisor(a, b):\n",
    "    '''\n",
    "   Verifica se um número é ou não divisor do outro\n",
    "\n",
    "      Args:\n",
    "       a(int)\n",
    "       b(int)\n",
    "\n",
    "      Returns:\n",
    "        True = divisor\n",
    "        False = não divide\n",
    "    '''\n",
    "    if a % b == 0:\n",
    "        return \"É divisor\"\n",
    "    else:\n",
    "        return \"Não é divisor\"\n",
    "\n",
    "\n",
    "\n",
    "print(is_divisor(20, 2))\n",
    "print(is_divisor(10, 7))"
   ]
  }
 ],
 "metadata": {
  "kernelspec": {
   "display_name": "FisComp",
   "language": "python",
   "name": "python3"
  },
  "language_info": {
   "codemirror_mode": {
    "name": "ipython",
    "version": 3
   },
   "file_extension": ".py",
   "mimetype": "text/x-python",
   "name": "python",
   "nbconvert_exporter": "python",
   "pygments_lexer": "ipython3",
   "version": "3.13.2"
  }
 },
 "nbformat": 4,
 "nbformat_minor": 5
}
