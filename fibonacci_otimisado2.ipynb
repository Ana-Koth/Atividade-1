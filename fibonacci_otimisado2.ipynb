{
 "cells": [
  {
   "cell_type": "code",
   "execution_count": null,
   "id": "94444839",
   "metadata": {},
   "outputs": [],
   "source": [
    "def fibonacci(n, lista_completa=False):\n",
    "    \"\"\"Retorna o n-ésimo termo da sequência de Fibonacci ou a sequência completa até o n-ésimo termo.\n",
    "\n",
    "    Argumentos\n",
    "    ----------\n",
    "    n : int\n",
    "    lista_completa : bool\n",
    "        Se True, retorna a sequência completa até o n-ésimo termo, por padrão False.\n",
    "\n",
    "    Retorna\n",
    "    -------\n",
    "    int ou list\n",
    "        O n-ésimo termo da sequência de Fibonacci ou a sequência completa até o n-ésimo termo.\n",
    "\n",
    "    \"\"\"\n",
    "    assert isinstance(n, int), \"Erro: o valor de n deve ser inteiro.\"\n",
    "    assert n >= 0, \"Erro: o valor de n não pode ser negativo.\"\n",
    "    sequencia = [0, 1]\n",
    "    for _ in range(2, n + 1):\n",
    "        sequencia.append(sequencia[-1] + sequencia[-2])\n",
    "    if lista_completa:\n",
    "        return sequencia\n",
    "    else:\n",
    "        return sequencia[n]\n",
    " # Exemplos:\n",
    " print(fibonacci(6))\n",
    " print(fibonacci(6, True))\n",
    " print(fibonacci(0))\n",
    " print(fibonacci(1))\n",
    " print(fibonacci(2, True))"
   ]
  }
 ],
 "metadata": {
  "language_info": {
   "name": "python"
  }
 },
 "nbformat": 4,
 "nbformat_minor": 5
}
