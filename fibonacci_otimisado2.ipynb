{
 "cells": [
  {
   "cell_type": "code",
   "execution_count": 2,
   "id": "94444839",
   "metadata": {},
   "outputs": [
    {
     "ename": "IndentationError",
     "evalue": "unindent does not match any outer indentation level (<string>, line 26)",
     "output_type": "error",
     "traceback": [
      "\u001b[1;36m  File \u001b[1;32m<string>:26\u001b[1;36m\u001b[0m\n\u001b[1;33m    print(fibonacci(6))\u001b[0m\n\u001b[1;37m                       ^\u001b[0m\n\u001b[1;31mIndentationError\u001b[0m\u001b[1;31m:\u001b[0m unindent does not match any outer indentation level\n"
     ]
    }
   ],
   "source": [
    "def fibonacci(n, lista_completa=False):\n",
    "    \"\"\"Retorna o n-ésimo termo da sequência de Fibonacci ou a sequência completa até o n-ésimo termo.\n",
    "\n",
    "    Argumentos\n",
    "    ----------\n",
    "    n : int\n",
    "    lista_completa : bool\n",
    "        Se True, retorna a sequência completa até o n-ésimo termo, por padrão False.\n",
    "\n",
    "    Retorna\n",
    "    -------\n",
    "    int ou list\n",
    "        O n-ésimo termo da sequência de Fibonacci ou a sequência completa até o n-ésimo termo.\n",
    "\n",
    "    \"\"\"\n",
    "    assert isinstance(n, int), \"Erro: o valor de n deve ser inteiro.\"\n",
    "    assert n >= 0, \"Erro: o valor de n não pode ser negativo.\"\n",
    "    sequencia = [0, 1]\n",
    "    for _ in range(2, n + 1):\n",
    "        sequencia.append(sequencia[-1] + sequencia[-2])\n",
    "    if lista_completa:\n",
    "        return sequencia\n",
    "    else:\n",
    "        return sequencia[n]\n",
    " # Exemplos:\n",
    " print(fibonacci(6))\n",
    " print(fibonacci(6, True))\n",
    " print(fibonacci(0))\n",
    " print(fibonacci(1))\n",
    " print(fibonacci(2, True))"
   ]
  }
 ],
 "metadata": {
  "kernelspec": {
   "display_name": "FisComp",
   "language": "python",
   "name": "python3"
  },
  "language_info": {
   "codemirror_mode": {
    "name": "ipython",
    "version": 3
   },
   "file_extension": ".py",
   "mimetype": "text/x-python",
   "name": "python",
   "nbconvert_exporter": "python",
   "pygments_lexer": "ipython3",
   "version": "3.13.2"
  }
 },
 "nbformat": 4,
 "nbformat_minor": 5
}
