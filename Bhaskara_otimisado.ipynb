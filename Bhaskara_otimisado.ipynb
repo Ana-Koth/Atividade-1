{
 "cells": [
  {
   "cell_type": "code",
   "execution_count": null,
   "id": "1c6c6e36",
   "metadata": {},
   "outputs": [],
   "source": [
    "def bhaskara(a, b, c):\n",
    "    '''\n",
    "   Calcula as duas raízes de uma função quadrática\n",
    "\n",
    "     Args:\n",
    "     -----------\n",
    "       a : int\n",
    "       b : int\n",
    "       c : int\n",
    "\n",
    "     Returns:\n",
    "     ---------\n",
    "     Int:\n",
    "       O valor das raízes de x1 e x2\n",
    "    '''\n",
    "    if a ==0 :\n",
    "      x1 = x2 = -c/b\n",
    "    else :\n",
    "       x1 = (-b +(b**2-4*a*c)**0.5)/(2*a)\n",
    "       x2 = (-b -(b**2-4*a*c)**0.5)/(2*a)\n",
    "    return x1, x2\n",
    "\n",
    "x1, x2 = bhaskara(1,2,3)\n",
    "print('A primeira raiz é:', x1)\n",
    "print('A segunda raiz é:', x2)"
   ]
  }
 ],
 "metadata": {
  "language_info": {
   "name": "python"
  }
 },
 "nbformat": 4,
 "nbformat_minor": 5
}
