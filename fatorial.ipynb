{
 "cells": [
  {
   "cell_type": "code",
   "execution_count": 1,
   "id": "1204fa8c",
   "metadata": {},
   "outputs": [
    {
     "name": "stdout",
     "output_type": "stream",
     "text": [
      "O fatorial de 3 é 6\n",
      "O fatorial de 1 é 1\n",
      "O fatorial de 10 é 3628800\n",
      "O fatorial de 0 é 1\n"
     ]
    }
   ],
   "source": [
    "def fatorial(n):\n",
    "    '''\n",
    "    Calcula e retorna o fatorial de n.\n",
    "\n",
    "    Argumentos\n",
    "    ----------\n",
    "    n : int\n",
    "        O número para o qual calcular o fatorial.\n",
    "\n",
    "    Retorna\n",
    "    -------\n",
    "    int\n",
    "        O fatorial de n.\n",
    "    '''\n",
    "    fatorial=1\n",
    "    for i in range(1,n+1):\n",
    "      fatorial=fatorial*i\n",
    "    return fatorial\n",
    "\n",
    "print(f'O fatorial de 3 é {fatorial(3)}')\n",
    "\n",
    "print('O fatorial de 1 é', fatorial(1))\n",
    "\n",
    "f10 = fatorial(10)\n",
    "print(f'O fatorial de 10 é {f10}')\n",
    "\n",
    "f0 = fatorial(0)\n",
    "print('O fatorial de 0 é', f0)"
   ]
  }
 ],
 "metadata": {
  "kernelspec": {
   "display_name": "FisComp",
   "language": "python",
   "name": "python3"
  },
  "language_info": {
   "codemirror_mode": {
    "name": "ipython",
    "version": 3
   },
   "file_extension": ".py",
   "mimetype": "text/x-python",
   "name": "python",
   "nbconvert_exporter": "python",
   "pygments_lexer": "ipython3",
   "version": "3.13.2"
  }
 },
 "nbformat": 4,
 "nbformat_minor": 5
}
