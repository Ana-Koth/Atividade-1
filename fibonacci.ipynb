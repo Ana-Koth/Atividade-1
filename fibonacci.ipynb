{
 "cells": [
  {
   "cell_type": "code",
   "execution_count": null,
   "id": "7bda15c3",
   "metadata": {},
   "outputs": [],
   "source": [
    "def fibonacci(n):\n",
    "    '''\n",
    "    Calcula e retorna uma lista com os números de fibonnacci\n",
    "       Args:\n",
    "         n (int)\n",
    "\n",
    "\n",
    "      Return:\n",
    "        lista (fibonnaci)\n",
    "    '''\n",
    "\n",
    "    fib = [0,1]\n",
    "    for i in range(2,n):\n",
    "      fib.append(fib[i-1]+fib[i-2])\n",
    "    return fib\n",
    "\n",
    "\n",
    "\n",
    "\n",
    "print('Sequência dos 5 primeiros números de Fibonacci:', fibonacci(5))\n",
    "\n",
    "f = fibonacci(20)\n",
    "print('Sequência dos 20 primeiros números de Fibonacci:', f)\n",
    "\n",
    "numero = 30\n",
    "f = fibonacci(numero)\n",
    "print(f'Sequência dos {numero} primeiros números de Fibonacci: {f}')"
   ]
  }
 ],
 "metadata": {
  "language_info": {
   "name": "python"
  }
 },
 "nbformat": 4,
 "nbformat_minor": 5
}
