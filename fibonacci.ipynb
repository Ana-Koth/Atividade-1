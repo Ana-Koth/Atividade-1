{
 "cells": [
  {
   "cell_type": "code",
   "execution_count": 1,
   "id": "7bda15c3",
   "metadata": {},
   "outputs": [
    {
     "name": "stdout",
     "output_type": "stream",
     "text": [
      "Sequência dos 5 primeiros números de Fibonacci: [0, 1, 1, 2, 3]\n",
      "Sequência dos 20 primeiros números de Fibonacci: [0, 1, 1, 2, 3, 5, 8, 13, 21, 34, 55, 89, 144, 233, 377, 610, 987, 1597, 2584, 4181]\n",
      "Sequência dos 30 primeiros números de Fibonacci: [0, 1, 1, 2, 3, 5, 8, 13, 21, 34, 55, 89, 144, 233, 377, 610, 987, 1597, 2584, 4181, 6765, 10946, 17711, 28657, 46368, 75025, 121393, 196418, 317811, 514229]\n"
     ]
    }
   ],
   "source": [
    "def fibonacci(n):\n",
    "    '''\n",
    "    Calcula e retorna uma lista com os números de fibonnacci\n",
    "       Args:\n",
    "         n (int)\n",
    "\n",
    "\n",
    "      Return:\n",
    "        lista (fibonnaci)\n",
    "    '''\n",
    "\n",
    "    fib = [0,1]\n",
    "    for i in range(2,n):\n",
    "      fib.append(fib[i-1]+fib[i-2])\n",
    "    return fib\n",
    "\n",
    "\n",
    "\n",
    "\n",
    "print('Sequência dos 5 primeiros números de Fibonacci:', fibonacci(5))\n",
    "\n",
    "f = fibonacci(20)\n",
    "print('Sequência dos 20 primeiros números de Fibonacci:', f)\n",
    "\n",
    "numero = 30\n",
    "f = fibonacci(numero)\n",
    "print(f'Sequência dos {numero} primeiros números de Fibonacci: {f}')"
   ]
  }
 ],
 "metadata": {
  "kernelspec": {
   "display_name": "FisComp",
   "language": "python",
   "name": "python3"
  },
  "language_info": {
   "codemirror_mode": {
    "name": "ipython",
    "version": 3
   },
   "file_extension": ".py",
   "mimetype": "text/x-python",
   "name": "python",
   "nbconvert_exporter": "python",
   "pygments_lexer": "ipython3",
   "version": "3.13.2"
  }
 },
 "nbformat": 4,
 "nbformat_minor": 5
}
