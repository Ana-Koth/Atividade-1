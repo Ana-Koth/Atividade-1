{
 "cells": [
  {
   "cell_type": "code",
   "execution_count": 1,
   "id": "64efb799",
   "metadata": {},
   "outputs": [
    {
     "name": "stdout",
     "output_type": "stream",
     "text": [
      "Fibonacci completo: [0, 1, 1, 2, 3, 5, 8, 13, 21, 34, 55, 89]\n",
      "Último número de Fibonacci: 89\n"
     ]
    }
   ],
   "source": [
    " def fibonacci(n, lista_completa=True):\n",
    "    \"\"\"\n",
    "    Gera a sequência de Fibonacci até o n-ésimo termo.\n",
    "    --------\n",
    "     Args :\n",
    "      n = int\n",
    "\n",
    "    Returns:\n",
    "      lista = fibonacci\n",
    "\n",
    "    \"\"\"\n",
    "\n",
    "    if n <= 0:\n",
    "        return \"Número inválido. Escolha n maior que 0.\"\n",
    "    sequencia = [0, 1]\n",
    "    for i in range(2, n):\n",
    "        sequencia.append(sequencia[-1] + sequencia[-2])\n",
    "    return sequencia if lista_completa else sequencia[-1]\n",
    "#Exemplos:\n",
    " print(\"Fibonacci completo:\", fibonacci(12))\n",
    " print(\"Último número de Fibonacci:\", fibonacci(12, lista_completa=False))"
   ]
  }
 ],
 "metadata": {
  "kernelspec": {
   "display_name": "FisComp",
   "language": "python",
   "name": "python3"
  },
  "language_info": {
   "codemirror_mode": {
    "name": "ipython",
    "version": 3
   },
   "file_extension": ".py",
   "mimetype": "text/x-python",
   "name": "python",
   "nbconvert_exporter": "python",
   "pygments_lexer": "ipython3",
   "version": "3.13.2"
  }
 },
 "nbformat": 4,
 "nbformat_minor": 5
}
