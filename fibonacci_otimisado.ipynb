{
 "cells": [
  {
   "cell_type": "code",
   "execution_count": null,
   "id": "64efb799",
   "metadata": {},
   "outputs": [],
   "source": [
    " def fibonacci(n, lista_completa=True):\n",
    "    \"\"\"\n",
    "    Gera a sequência de Fibonacci até o n-ésimo termo.\n",
    "    --------\n",
    "     Args :\n",
    "      n = int\n",
    "\n",
    "    Returns:\n",
    "      lista = fibonacci\n",
    "\n",
    "    \"\"\"\n",
    "\n",
    "    if n <= 0:\n",
    "        return \"Número inválido. Escolha n maior que 0.\"\n",
    "    sequencia = [0, 1]\n",
    "    for i in range(2, n):\n",
    "        sequencia.append(sequencia[-1] + sequencia[-2])\n",
    "    return sequencia if lista_completa else sequencia[-1]\n",
    "#Exemplos:\n",
    " print(\"Fibonacci completo:\", fibonacci(12))\n",
    " print(\"Último número de Fibonacci:\", fibonacci(12, lista_completa=False))"
   ]
  }
 ],
 "metadata": {
  "language_info": {
   "name": "python"
  }
 },
 "nbformat": 4,
 "nbformat_minor": 5
}
